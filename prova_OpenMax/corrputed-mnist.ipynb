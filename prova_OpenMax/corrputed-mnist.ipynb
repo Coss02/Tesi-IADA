{
 "cells": [
  {
   "cell_type": "code",
   "execution_count": 62,
   "metadata": {},
   "outputs": [
    {
     "data": {
      "text/plain": [
       "[{2}, {6}, {1}, {8}, {4}, {5}, {0}, {9}, {3}, {7}]"
      ]
     },
     "execution_count": 62,
     "metadata": {},
     "output_type": "execute_result"
    }
   ],
   "source": [
    "import os\n",
    "import torch\n",
    "import numpy as np\n",
    "from torchvision import transforms\n",
    "from torch.utils.data import Dataset, TensorDataset\n",
    "from avalanche.benchmarks.utils import (\n",
    "    AvalancheDataset,\n",
    "    AvalancheSubset,\n",
    "    AvalancheTensorDataset,\n",
    ")\n",
    "from avalanche.benchmarks.generators import nc_benchmark, ni_benchmark\n",
    "from avalanche.benchmarks.scenarios.generic_benchmark_creation import (\n",
    "    create_multi_dataset_generic_benchmark,\n",
    ")\n",
    "\n",
    "test_images = np.load(\"./brightness/test/test_images.npy\")\n",
    "test_labels = np.load(\"./brightness/test/test_labels.npy\")\n",
    "train_images = np.load(\"./brightness/train/train_images.npy\")\n",
    "train_labels = np.load(\"./brightness/train/train_labels.npy\")\n",
    "\n",
    "# Convert NumPy arrays to PyTorch tensors\n",
    "test_images_tensor = torch.tensor(test_images)\n",
    "test_labels_tensor = torch.tensor(test_labels)\n",
    "train_images_tensor = torch.tensor(train_images)\n",
    "train_labels_tensor = torch.tensor(train_labels)\n",
    "\n",
    "# Create TensorDataset\n",
    "test = TensorDataset(test_images_tensor, test_labels_tensor)\n",
    "train = TensorDataset(train_images_tensor, train_labels_tensor)\n",
    "\n",
    "scenario = nc_benchmark(\n",
    "    train,\n",
    "    test,\n",
    "    n_experiences=10,\n",
    "    shuffle=True,\n",
    "    seed=42,\n",
    "    task_labels=False,\n",
    ")\n",
    "\n",
    "scenario.original_classes_in_exp"
   ]
  },
  {
   "cell_type": "code",
   "execution_count": 58,
   "metadata": {},
   "outputs": [
    {
     "data": {
      "image/png": "[encoded data removed]",
      "text/plain": [
       "<Figure size 1500x300 with 6 Axes>"
      ]
     },
     "metadata": {},
     "output_type": "display_data"
    }
   ],
   "source": [
    "import matplotlib.pyplot as plt\n",
    "\n",
    "\n",
    "# Define a function to show a preview of the dataset\n",
    "def show_preview(dataset, num_samples=6):\n",
    "    fig, axes = plt.subplots(1, num_samples, figsize=(15, 3))\n",
    "\n",
    "    for i in range(num_samples):\n",
    "        image, label = dataset[i]\n",
    "        if len(image.shape) == 3 and image.shape[0] == 1:\n",
    "            # Remove the singleton channel dimension if present\n",
    "            image = image.squeeze(0)\n",
    "        axes[i].imshow(image.numpy(), cmap=\"gray\")  # Display grayscale image\n",
    "        axes[i].set_title(f\"Label: {label}\")\n",
    "        axes[i].axis(\"off\")\n",
    "\n",
    "    plt.show()\n",
    "\n",
    "\n",
    "# Show a preview of the dataset\n",
    "show_preview(c_mnist)"
   ]
  }
 ],
 "metadata": {
  "kernelspec": {
   "display_name": "tesi_env1",
   "language": "python",
   "name": "python3"
  },
  "language_info": {
   "codemirror_mode": {
    "name": "ipython",
    "version": 3
   },
   "file_extension": ".py",
   "mimetype": "text/x-python",
   "name": "python",
   "nbconvert_exporter": "python",
   "pygments_lexer": "ipython3",
   "version": "3.10.13"
  }
 },
 "nbformat": 4,
 "nbformat_minor": 2
}
